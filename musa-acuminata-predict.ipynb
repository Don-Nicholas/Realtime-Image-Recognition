{
 "cells": [
  {
   "cell_type": "code",
   "execution_count": 1,
   "metadata": {},
   "outputs": [],
   "source": [
    "import numpy as np\n",
    "from keras.models import model_from_json\n",
    "import operator\n",
    "import cv2\n",
    "import sys, os"
   ]
  },
  {
   "cell_type": "code",
   "execution_count": 2,
   "metadata": {},
   "outputs": [
    {
     "name": "stdout",
     "output_type": "stream",
     "text": [
      "Loaded model from disk\n"
     ]
    }
   ],
   "source": [
    "# Loading the model\n",
    "json_file = open(\"musa-acuminata.json\", \"r\")\n",
    "model_json = json_file.read()\n",
    "json_file.close()\n",
    "loaded_model = model_from_json(model_json)\n",
    "# load weights into new model\n",
    "loaded_model.load_weights(\"musa-acuminata-bw.h5\")\n",
    "print(\"Loaded model from disk\")"
   ]
  },
  {
   "cell_type": "code",
   "execution_count": 89,
   "metadata": {},
   "outputs": [],
   "source": [
    "cap = cv2.VideoCapture(1)\n",
    "classes = ['freshripe', 'freshunripe', 'overripe', 'ripe', 'rotten', 'unripe']\n",
    "\n",
    "while True:\n",
    "    _, frame = cap.read()\n",
    "    # Simulating mirror image\n",
    "    frame = cv2.flip(frame, 1)\n",
    "    \n",
    "    # Got this from collect-data.py\n",
    "    # Coordinates of the ROI\n",
    "    # x1 = int(0.5*frame.shape[1])\n",
    "    x1 = 200\n",
    "    y1 = 20\n",
    "    x2 = frame.shape[1]-20\n",
    "    y2 = int(0.70*frame.shape[1])\n",
    "    # y2 = int(0.5*frame.shape[1])\n",
    "    # Drawing the ROI\n",
    "    # The increment/decrement by 1 is to compensate for the bounding box\n",
    "    cv2.rectangle(frame, (x1-1, y1-1), (x2+1, y2+1), (255,0,0) ,1)\n",
    "    # Extracting the ROI\n",
    "    roi = frame[y1:y2, x1:x2]\n",
    "    \n",
    "    # Resizing the ROI so it can be fed to the model for prediction\n",
    "    roi = cv2.resize(roi, (150, 150))\n",
    "    result = loaded_model.predict(roi.reshape(1, 150, 150, 3))\n",
    "    val = int(np.argmax(result))\n",
    "    res = classes[val]\n",
    "    \n",
    "    cv2.putText(frame, res, (int(((x1+x2)/2)-20), (y2 + 20)), cv2.FONT_HERSHEY_COMPLEX, 0.5, (0,255,255), 1)    \n",
    "    cv2.putText(frame, \"Classes:\", ((20), (50)), cv2.FONT_HERSHEY_COMPLEX, 0.85, (0,255,255), 1) \n",
    "    \n",
    "    cv2.putText(frame, classes[0], ((20), (100)), cv2.FONT_HERSHEY_COMPLEX, 0.5, (0,255,255), 1)\n",
    "    cv2.putText(frame, classes[1], ((20), (130)), cv2.FONT_HERSHEY_COMPLEX, 0.5, (0,255,255), 1)\n",
    "    cv2.putText(frame, classes[2], ((20), (160)), cv2.FONT_HERSHEY_COMPLEX, 0.5, (0,255,255), 1)\n",
    "    cv2.putText(frame, classes[3], ((20), (190)), cv2.FONT_HERSHEY_COMPLEX, 0.5, (0,255,255), 1)\n",
    "    cv2.putText(frame, classes[4], ((20), (220)), cv2.FONT_HERSHEY_COMPLEX, 0.5, (0,255,255), 1)\n",
    "    cv2.putText(frame, classes[5], ((20), (250)), cv2.FONT_HERSHEY_COMPLEX, 0.5, (0,255,255), 1)\n",
    "    \n",
    "    cv2.imshow(\"Realtime Image Recognition\", frame)\n",
    "    \n",
    "    interrupt = cv2.waitKey(10)\n",
    "    if interrupt & 0xFF == 27: # esc key\n",
    "        break\n",
    "        \n",
    " \n",
    "cap.release()\n",
    "cv2.destroyAllWindows()"
   ]
  }
 ],
 "metadata": {
  "interpreter": {
   "hash": "d75f19158445ba6c6e692fbdbc4133e94b1ba801d38be4b86a7372fd47c62835"
  },
  "kernelspec": {
   "display_name": "Python 3.9.7 64-bit",
   "language": "python",
   "name": "python3"
  },
  "language_info": {
   "codemirror_mode": {
    "name": "ipython",
    "version": 3
   },
   "file_extension": ".py",
   "mimetype": "text/x-python",
   "name": "python",
   "nbconvert_exporter": "python",
   "pygments_lexer": "ipython3",
   "version": "3.9.7"
  },
  "orig_nbformat": 4
 },
 "nbformat": 4,
 "nbformat_minor": 2
}
